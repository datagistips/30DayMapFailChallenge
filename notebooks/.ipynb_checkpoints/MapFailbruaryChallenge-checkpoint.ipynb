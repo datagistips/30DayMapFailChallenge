{
 "cells": [
  {
   "cell_type": "markdown",
   "id": "6c40f8d1",
   "metadata": {},
   "source": [
    "# #MapFailbruaryChallenge Poll Analysing\n",
    "In this notebook, we select the top 28 ideas for February"
   ]
  },
  {
   "cell_type": "code",
   "execution_count": 1,
   "id": "5a1687c3",
   "metadata": {},
   "outputs": [],
   "source": [
    "import pandas as pd"
   ]
  },
  {
   "cell_type": "code",
   "execution_count": 2,
   "id": "6f3e2f20",
   "metadata": {},
   "outputs": [
    {
     "name": "stderr",
     "output_type": "stream",
     "text": [
      "c:\\python39\\lib\\site-packages\\IPython\\core\\interactiveshell.py:3194: DtypeWarning: Columns (26,27,29,34,35,36,37,38,39,40,41,42,43,60,61,100) have mixed types.Specify dtype option on import or set low_memory=False.\n",
      "  has_raised = await self.run_ast_nodes(code_ast.body, cell_name,\n"
     ]
    }
   ],
   "source": [
    "df = pd.read_csv(\"../data/02_Poll/#MapFailbruaryChallenge.csv\")"
   ]
  },
  {
   "cell_type": "markdown",
   "id": "44b5a22d",
   "metadata": {},
   "source": [
    "We get an error because the file is misformed.\n",
    "\n",
    "## Inspection 🔍\n",
    "Let's look at the header which must contain the variable names :"
   ]
  },
  {
   "cell_type": "code",
   "execution_count": 5,
   "id": "44b77429",
   "metadata": {},
   "outputs": [],
   "source": [
    "with open(\"../data/02_Poll/#MapFailbruaryChallenge.csv\", encoding=\"utf8\") as f:\n",
    "    first_line = f.readline().strip('\\n')"
   ]
  },
  {
   "cell_type": "code",
   "execution_count": 6,
   "id": "49cf92b4",
   "metadata": {},
   "outputs": [
    {
     "data": {
      "text/plain": [
       "'\"Horodateur\",\"How do you ❤ each category ? (No response means \\'no advice\\' 😶) [\"\"Cartography is my passion\"\"]\",\"How do you ❤ each category ? (No response means \\'no advice\\' 😶) [\"\"You really should\\'ve normalized that\"\"]\",\"How do you ❤ each category ? (No response means \\'no advice\\' 😶) [\"\"that really should have been like 3 different maps\"\"]\",\"How do you ❤ each category ? (No response means \\'no advice\\' 😶) [#nothingMap (See [#thingsMap](https://twitter.com/search?q=%23thingsmap&src=typed_query))]\",\"How do you ❤ each category ? (No response means \\'no advice\\' 😶) [...Ooooh, you wanted to map the OTHER variable..?]\",\"How do you ❤ each category ? (No response means \\'no advice\\' 😶) [A hurricane track prediction map amended in sharpie (Donal Trump inspiration : https://twitter.com/marinemaps/status/1574849272121593868)]\",\"How do you ❤ each category ? (No response means \\'no advice\\' 😶) [A map clearly made with ArcGIS©℗®™, QGIS©℗®™ or MapInfo©℗®™]\",\"How do you ❤ each category ? (No response means \\'no advice\\' 😶) [Bad point symbols]\",\"How do you ❤ each category ? (No response means \\'no advice\\' 😶) [Bees]\",\"How do you ❤ each category ? (No response means \\'no advice\\' 😶) [Chloropleth]\",\"How do you ❤ each category ? (No response means \\'no advice\\' 😶) [Chuck Norris says : you do not need to know geography to be a cartographer]\",\"How do you ❤ each category ? (No response means \\'no advice\\' 😶) [Colorblind]\",\"How do you ❤ each category ? (No response means \\'no advice\\' 😶) [Contrast]\",\"How do you ❤ each category ? (No response means \\'no advice\\' 😶) [Could have been a bar chart]\",\"How do you ❤ each category ? (No response means \\'no advice\\' 😶) [Doritos Map of the US]\",\"How do you ❤ each category ? (No response means \\'no advice\\' 😶) [Drop shadow connoisseur]\",\"How do you ❤ each category ? (No response means \\'no advice\\' 😶) [Egregious and unforgivable omissions: New Zealand, Aleutian Islands, UP Michigan, Scandinavia,  etc.]\",\"How do you ❤ each category ? (No response means \\'no advice\\' 😶) [Historic Map With Terrain Blender Render Bender]\",\"How do you ❤ each category ? (No response means \\'no advice\\' 😶) [Horrible use of choropleth]\",\"How do you ❤ each category ? (No response means \\'no advice\\' 😶) [I\\'m a Scientist]\",\"How do you ❤ each category ? (No response means \\'no advice\\' 😶) [In a hurry]\",\"How do you ❤ each category ? (No response means \\'no advice\\' 😶) [Irrelevant variables]\",\"How do you ❤ each category ? (No response means \\'no advice\\' 😶) [JeT ScaLe CAn MeLT eYE bALLs]\",\"How do you ❤ each category ? (No response means \\'no advice\\' 😶) [Label every address of every parcel (for my fellow local gov workers)]\",\"How do you ❤ each category ? (No response means \\'no advice\\' 😶) [Map clearly made with Microsoft Paint]\",\"How do you ❤ each category ? (No response means \\'no advice\\' 😶) [Mapillarious experience]\",\"How do you ❤ each category ? (No response means \\'no advice\\' 😶) [Maybe Worst location map/area of study]\",\"How do you ❤ each category ? (No response means \\'no advice\\' 😶) [Might contain nuts]\",\"How do you ❤ each category ? (No response means \\'no advice\\' 😶) [Most boring map]\",\"How do you ❤ each category ? (No response means \\'no advice\\' 😶) [Most cluttered map]\",\"How do you ❤ each category ? (No response means \\'no advice\\' 😶) [My Cartography Teacher Had A Checklist And This Map Ticks Them All]\",\"How do you ❤ each category ? (No response means \\'no advice\\' 😶) [My monitor was inverted, I swear]\",\"How do you ❤ each category ? (No response means \\'no advice\\' 😶) [NSFW]\",\"How do you ❤ each category ? (No response means \\'no advice\\' 😶) [Not colorblind safe]\",\"How do you ❤ each category ? (No response means \\'no advice\\' 😶) [Not enough/Too much Text]\",\"How do you ❤ each category ? (No response means \\'no advice\\' 😶) [Poor raster rendering]\",\"How do you ❤ each category ? (No response means \\'no advice\\' 😶) [Population per capita 🤩]\",\"How do you ❤ each category ? (No response means \\'no advice\\' 😶) [Rainbow is the new black]\",\"How do you ❤ each category ? (No response means \\'no advice\\' 😶) [Really NSFW]\",\"How do you ❤ each category ? (No response means \\'no advice\\' 😶) [Shocking correlations]\",\"How do you ❤ each category ? (No response means \\'no advice\\' 😶) [Source : trust me bro]\",\"How do you ❤ each category ? (No response means \\'no advice\\' 😶) [Superficial intelligence Map]\",\"How do you ❤ each category ? (No response means \\'no advice\\' 😶) [Teal]\",\"How do you ❤ each category ? (No response means \\'no advice\\' 😶) [The map with the highest number of hardly detectable errors (e.g. slight misplacements)]\",\"How do you ❤ each category ? (No response means \\'no advice\\' 😶) [Transparency solves everything]\",\"How do you ❤ each category ? (No response means \\'no advice\\' 😶) [World is distorted, not my projection]\",\"How do you ❤ each category ? (No response means \\'no advice\\' 😶) [Worst \"\"make a country look like its flag\"\" classification map]\",\"How do you ❤ each category ? (No response means \\'no advice\\' 😶) [Worst \"\"sarcastic\"\" map (e.g. electricity in the Roman Empire; population per capita)]\",\"How do you ❤ each category ? (No response means \\'no advice\\' 😶) [Worst \"\"this non-island country looks like an island\"\" map]\",\"How do you ❤ each category ? (No response means \\'no advice\\' 😶) [Worst (to long/to many) Copyright Informations]\",\"How do you ❤ each category ? (No response means \\'no advice\\' 😶) [Worst 3D Map]\",\"How do you ❤ each category ? (No response means \\'no advice\\' 😶) [Worst Google Maps, etc. error (e.g. non-existent roads that people try to drive down with their GPS).]\",\"How do you ❤ each category ? (No response means \\'no advice\\' 😶) [Worst Map for hiking]\",\"How do you ❤ each category ? (No response means \\'no advice\\' 😶) [Worst Twitter emoji map!!!]\",\"How do you ❤ each category ? (No response means \\'no advice\\' 😶) [Worst Valentine\\'s Day Map\\' ? 💔]\",\"How do you ❤ each category ? (No response means \\'no advice\\' 😶) [Worst abuse of digital elevation applied to an antique map]\",\"How do you ❤ each category ? (No response means \\'no advice\\' 😶) [Worst accidental(?) annexation of part of another territory]\",\"How do you ❤ each category ? (No response means \\'no advice\\' 😶) [Worst airline route map]\",\"How do you ❤ each category ? (No response means \\'no advice\\' 😶) [Worst alternative to Google Maps and OpenStreetMap]\",\"How do you ❤ each category ? (No response means \\'no advice\\' 😶) [Worst animation]\",\"How do you ❤ each category ? (No response means \\'no advice\\' 😶) [Worst buffer?]\",\"How do you ❤ each category ? (No response means \\'no advice\\' 😶) [Worst city map]\",\"How do you ❤ each category ? (No response means \\'no advice\\' 😶) [Worst classification scheme]\",\"How do you ❤ each category ? (No response means \\'no advice\\' 😶) [Worst colors]\",\"How do you ❤ each category ? (No response means \\'no advice\\' 😶) [Worst data]\",\"How do you ❤ each category ? (No response means \\'no advice\\' 😶) [Worst decorations]\",\"How do you ❤ each category ? (No response means \\'no advice\\' 😶) [Worst dynamic map]\",\"How do you ❤ each category ? (No response means \\'no advice\\' 😶) [Worst elevation map]\",\"How do you ❤ each category ? (No response means \\'no advice\\' 😶) [Worst extrusion]\",\"How do you ❤ each category ? (No response means \\'no advice\\' 😶) [Worst flow map]\",\"How do you ❤ each category ? (No response means \\'no advice\\' 😶) [Worst font (this is easy, everybody just gets to use papyrus 🤪)]\",\"How do you ❤ each category ? (No response means \\'no advice\\' 😶) [Worst hand-drawn map]\",\"How do you ❤ each category ? (No response means \\'no advice\\' 😶) [Worst intention]\",\"How do you ❤ each category ? (No response means \\'no advice\\' 😶) [Worst interactivity]\",\"How do you ❤ each category ? (No response means \\'no advice\\' 😶) [Worst inventivity]\",\"How do you ❤ each category ? (No response means \\'no advice\\' 😶) [Worst labels]\",\"How do you ❤ each category ? (No response means \\'no advice\\' 😶) [Worst legend]\",\"How do you ❤ each category ? (No response means \\'no advice\\' 😶) [Worst legend]\",\"How do you ❤ each category ? (No response means \\'no advice\\' 😶) [Worst marine map]\",\"How do you ❤ each category ? (No response means \\'no advice\\' 😶) [Worst material and tangibility]\",\"How do you ❤ each category ? (No response means \\'no advice\\' 😶) [Worst message]\",\"How do you ❤ each category ? (No response means \\'no advice\\' 😶) [Worst neat line]\",\"How do you ❤ each category ? (No response means \\'no advice\\' 😶) [Worst projection]\",\"How do you ❤ each category ? (No response means \\'no advice\\' 😶) [Worst readibility]\",\"How do you ❤ each category ? (No response means \\'no advice\\' 😶) [Worst relief map]\",\"How do you ❤ each category ? (No response means \\'no advice\\' 😶) [Worst resolution]\",\"How do you ❤ each category ? (No response means \\'no advice\\' 😶) [Worst scale]\",\"How do you ❤ each category ? (No response means \\'no advice\\' 😶) [Worst scale bar]\",\"How do you ❤ each category ? (No response means \\'no advice\\' 😶) [Worst software]\",\"How do you ❤ each category ? (No response means \\'no advice\\' 😶) [Worst statistical map]\",\"How do you ❤ each category ? (No response means \\'no advice\\' 😶) [Worst storymap (a bit off topic)]\",\"How do you ❤ each category ? (No response means \\'no advice\\' 😶) [Worst symbols]\",\"How do you ❤ each category ? (No response means \\'no advice\\' 😶) [Worst thematic map]\",\"How do you ❤ each category ? (No response means \\'no advice\\' 😶) [Worst title]\",\"How do you ❤ each category ? (No response means \\'no advice\\' 😶) [Worst topographic map]\",\"How do you ❤ each category ? (No response means \\'no advice\\' 😶) [Worst tube(r) map? 🥔⭕️]\",\"How do you ❤ each category ? (No response means \\'no advice\\' 😶) [Worst understandability]\",\"How do you ❤ each category ? (No response means \\'no advice\\' 😶) [Worst use of rasters as polygon fill patterns.]\",\"How do you ❤ each category ? (No response means \\'no advice\\' 😶) [Worst way to leave New Zealand off a map]\",\"How do you ❤ each category ? (No response means \\'no advice\\' 😶) [Worst spelling errors! Worst kerning errors]\"'"
      ]
     },
     "execution_count": 6,
     "metadata": {},
     "output_type": "execute_result"
    }
   ],
   "source": [
    "first_line"
   ]
  },
  {
   "cell_type": "code",
   "execution_count": 7,
   "id": "3dd44aa2",
   "metadata": {},
   "outputs": [],
   "source": [
    "with open(\"../data/02_Poll/#MapFailbruaryChallenge.csv\", encoding = \"utf-8\") as f:\n",
    "    lines = f.readlines()"
   ]
  },
  {
   "cell_type": "code",
   "execution_count": 8,
   "id": "7c9afe3c",
   "metadata": {},
   "outputs": [],
   "source": [
    "first_line = lines[0]"
   ]
  },
  {
   "cell_type": "code",
   "execution_count": 9,
   "id": "923616fc",
   "metadata": {},
   "outputs": [],
   "source": [
    "second_line = lines[1]"
   ]
  },
  {
   "cell_type": "code",
   "execution_count": 10,
   "id": "3add9a7b",
   "metadata": {},
   "outputs": [
    {
     "data": {
      "text/plain": [
       "101"
      ]
     },
     "execution_count": 10,
     "metadata": {},
     "output_type": "execute_result"
    }
   ],
   "source": [
    "len(second_line.split(\",\"))"
   ]
  },
  {
   "cell_type": "code",
   "execution_count": 11,
   "id": "e8f5ec92",
   "metadata": {},
   "outputs": [
    {
     "data": {
      "text/plain": [
       "111"
      ]
     },
     "execution_count": 11,
     "metadata": {},
     "output_type": "execute_result"
    }
   ],
   "source": [
    "len(first_line.split(\",\"))"
   ]
  },
  {
   "cell_type": "markdown",
   "id": "8cbf627a",
   "metadata": {},
   "source": [
    "We see that data and header have different lengths. Not good ! ❌\n",
    "\n",
    "\n",
    "## Transformation ⚙\n",
    "First, we'll do reformatting on the header.\n",
    "\n",
    "We'll correctly split the variable names :"
   ]
  },
  {
   "cell_type": "code",
   "execution_count": 12,
   "id": "4adcb6be",
   "metadata": {},
   "outputs": [
    {
     "data": {
      "text/plain": [
       "['\"Horodateur\",\"How do you ❤ each category ? (No response means \\'no advice\\' 😶) [\"\"Cartography is my passion\"\"',\n",
       " '\"How do you ❤ each category ? (No response means \\'no advice\\' 😶) [\"\"You really should\\'ve normalized that\"\"',\n",
       " '\"How do you ❤ each category ? (No response means \\'no advice\\' 😶) [\"\"that really should have been like 3 different maps\"\"',\n",
       " '\"How do you ❤ each category ? (No response means \\'no advice\\' 😶) [#nothingMap (See [#thingsMap](https://twitter.com/search?q=%23thingsmap&src=typed_query))',\n",
       " '\"How do you ❤ each category ? (No response means \\'no advice\\' 😶) [...Ooooh, you wanted to map the OTHER variable..?',\n",
       " '\"How do you ❤ each category ? (No response means \\'no advice\\' 😶) [A hurricane track prediction map amended in sharpie (Donal Trump inspiration : https://twitter.com/marinemaps/status/1574849272121593868)',\n",
       " '\"How do you ❤ each category ? (No response means \\'no advice\\' 😶) [A map clearly made with ArcGIS©℗®™, QGIS©℗®™ or MapInfo©℗®™',\n",
       " '\"How do you ❤ each category ? (No response means \\'no advice\\' 😶) [Bad point symbols',\n",
       " '\"How do you ❤ each category ? (No response means \\'no advice\\' 😶) [Bees',\n",
       " '\"How do you ❤ each category ? (No response means \\'no advice\\' 😶) [Chloropleth',\n",
       " '\"How do you ❤ each category ? (No response means \\'no advice\\' 😶) [Chuck Norris says : you do not need to know geography to be a cartographer',\n",
       " '\"How do you ❤ each category ? (No response means \\'no advice\\' 😶) [Colorblind',\n",
       " '\"How do you ❤ each category ? (No response means \\'no advice\\' 😶) [Contrast',\n",
       " '\"How do you ❤ each category ? (No response means \\'no advice\\' 😶) [Could have been a bar chart',\n",
       " '\"How do you ❤ each category ? (No response means \\'no advice\\' 😶) [Doritos Map of the US',\n",
       " '\"How do you ❤ each category ? (No response means \\'no advice\\' 😶) [Drop shadow connoisseur',\n",
       " '\"How do you ❤ each category ? (No response means \\'no advice\\' 😶) [Egregious and unforgivable omissions: New Zealand, Aleutian Islands, UP Michigan, Scandinavia,  etc.',\n",
       " '\"How do you ❤ each category ? (No response means \\'no advice\\' 😶) [Historic Map With Terrain Blender Render Bender',\n",
       " '\"How do you ❤ each category ? (No response means \\'no advice\\' 😶) [Horrible use of choropleth',\n",
       " '\"How do you ❤ each category ? (No response means \\'no advice\\' 😶) [I\\'m a Scientist',\n",
       " '\"How do you ❤ each category ? (No response means \\'no advice\\' 😶) [In a hurry',\n",
       " '\"How do you ❤ each category ? (No response means \\'no advice\\' 😶) [Irrelevant variables',\n",
       " '\"How do you ❤ each category ? (No response means \\'no advice\\' 😶) [JeT ScaLe CAn MeLT eYE bALLs',\n",
       " '\"How do you ❤ each category ? (No response means \\'no advice\\' 😶) [Label every address of every parcel (for my fellow local gov workers)',\n",
       " '\"How do you ❤ each category ? (No response means \\'no advice\\' 😶) [Map clearly made with Microsoft Paint',\n",
       " '\"How do you ❤ each category ? (No response means \\'no advice\\' 😶) [Mapillarious experience',\n",
       " '\"How do you ❤ each category ? (No response means \\'no advice\\' 😶) [Maybe Worst location map/area of study',\n",
       " '\"How do you ❤ each category ? (No response means \\'no advice\\' 😶) [Might contain nuts',\n",
       " '\"How do you ❤ each category ? (No response means \\'no advice\\' 😶) [Most boring map',\n",
       " '\"How do you ❤ each category ? (No response means \\'no advice\\' 😶) [Most cluttered map',\n",
       " '\"How do you ❤ each category ? (No response means \\'no advice\\' 😶) [My Cartography Teacher Had A Checklist And This Map Ticks Them All',\n",
       " '\"How do you ❤ each category ? (No response means \\'no advice\\' 😶) [My monitor was inverted, I swear',\n",
       " '\"How do you ❤ each category ? (No response means \\'no advice\\' 😶) [NSFW',\n",
       " '\"How do you ❤ each category ? (No response means \\'no advice\\' 😶) [Not colorblind safe',\n",
       " '\"How do you ❤ each category ? (No response means \\'no advice\\' 😶) [Not enough/Too much Text',\n",
       " '\"How do you ❤ each category ? (No response means \\'no advice\\' 😶) [Poor raster rendering',\n",
       " '\"How do you ❤ each category ? (No response means \\'no advice\\' 😶) [Population per capita 🤩',\n",
       " '\"How do you ❤ each category ? (No response means \\'no advice\\' 😶) [Rainbow is the new black',\n",
       " '\"How do you ❤ each category ? (No response means \\'no advice\\' 😶) [Really NSFW',\n",
       " '\"How do you ❤ each category ? (No response means \\'no advice\\' 😶) [Shocking correlations',\n",
       " '\"How do you ❤ each category ? (No response means \\'no advice\\' 😶) [Source : trust me bro',\n",
       " '\"How do you ❤ each category ? (No response means \\'no advice\\' 😶) [Superficial intelligence Map',\n",
       " '\"How do you ❤ each category ? (No response means \\'no advice\\' 😶) [Teal',\n",
       " '\"How do you ❤ each category ? (No response means \\'no advice\\' 😶) [The map with the highest number of hardly detectable errors (e.g. slight misplacements)',\n",
       " '\"How do you ❤ each category ? (No response means \\'no advice\\' 😶) [Transparency solves everything',\n",
       " '\"How do you ❤ each category ? (No response means \\'no advice\\' 😶) [World is distorted, not my projection',\n",
       " '\"How do you ❤ each category ? (No response means \\'no advice\\' 😶) [Worst \"\"make a country look like its flag\"\" classification map',\n",
       " '\"How do you ❤ each category ? (No response means \\'no advice\\' 😶) [Worst \"\"sarcastic\"\" map (e.g. electricity in the Roman Empire; population per capita)',\n",
       " '\"How do you ❤ each category ? (No response means \\'no advice\\' 😶) [Worst \"\"this non-island country looks like an island\"\" map',\n",
       " '\"How do you ❤ each category ? (No response means \\'no advice\\' 😶) [Worst (to long/to many) Copyright Informations',\n",
       " '\"How do you ❤ each category ? (No response means \\'no advice\\' 😶) [Worst 3D Map',\n",
       " '\"How do you ❤ each category ? (No response means \\'no advice\\' 😶) [Worst Google Maps, etc. error (e.g. non-existent roads that people try to drive down with their GPS).',\n",
       " '\"How do you ❤ each category ? (No response means \\'no advice\\' 😶) [Worst Map for hiking',\n",
       " '\"How do you ❤ each category ? (No response means \\'no advice\\' 😶) [Worst Twitter emoji map!!!',\n",
       " '\"How do you ❤ each category ? (No response means \\'no advice\\' 😶) [Worst Valentine\\'s Day Map\\' ? 💔',\n",
       " '\"How do you ❤ each category ? (No response means \\'no advice\\' 😶) [Worst abuse of digital elevation applied to an antique map',\n",
       " '\"How do you ❤ each category ? (No response means \\'no advice\\' 😶) [Worst accidental(?) annexation of part of another territory',\n",
       " '\"How do you ❤ each category ? (No response means \\'no advice\\' 😶) [Worst airline route map',\n",
       " '\"How do you ❤ each category ? (No response means \\'no advice\\' 😶) [Worst alternative to Google Maps and OpenStreetMap',\n",
       " '\"How do you ❤ each category ? (No response means \\'no advice\\' 😶) [Worst animation',\n",
       " '\"How do you ❤ each category ? (No response means \\'no advice\\' 😶) [Worst buffer?',\n",
       " '\"How do you ❤ each category ? (No response means \\'no advice\\' 😶) [Worst city map',\n",
       " '\"How do you ❤ each category ? (No response means \\'no advice\\' 😶) [Worst classification scheme',\n",
       " '\"How do you ❤ each category ? (No response means \\'no advice\\' 😶) [Worst colors',\n",
       " '\"How do you ❤ each category ? (No response means \\'no advice\\' 😶) [Worst data',\n",
       " '\"How do you ❤ each category ? (No response means \\'no advice\\' 😶) [Worst decorations',\n",
       " '\"How do you ❤ each category ? (No response means \\'no advice\\' 😶) [Worst dynamic map',\n",
       " '\"How do you ❤ each category ? (No response means \\'no advice\\' 😶) [Worst elevation map',\n",
       " '\"How do you ❤ each category ? (No response means \\'no advice\\' 😶) [Worst extrusion',\n",
       " '\"How do you ❤ each category ? (No response means \\'no advice\\' 😶) [Worst flow map',\n",
       " '\"How do you ❤ each category ? (No response means \\'no advice\\' 😶) [Worst font (this is easy, everybody just gets to use papyrus 🤪)',\n",
       " '\"How do you ❤ each category ? (No response means \\'no advice\\' 😶) [Worst hand-drawn map',\n",
       " '\"How do you ❤ each category ? (No response means \\'no advice\\' 😶) [Worst intention',\n",
       " '\"How do you ❤ each category ? (No response means \\'no advice\\' 😶) [Worst interactivity',\n",
       " '\"How do you ❤ each category ? (No response means \\'no advice\\' 😶) [Worst inventivity',\n",
       " '\"How do you ❤ each category ? (No response means \\'no advice\\' 😶) [Worst labels',\n",
       " '\"How do you ❤ each category ? (No response means \\'no advice\\' 😶) [Worst legend',\n",
       " '\"How do you ❤ each category ? (No response means \\'no advice\\' 😶) [Worst legend',\n",
       " '\"How do you ❤ each category ? (No response means \\'no advice\\' 😶) [Worst marine map',\n",
       " '\"How do you ❤ each category ? (No response means \\'no advice\\' 😶) [Worst material and tangibility',\n",
       " '\"How do you ❤ each category ? (No response means \\'no advice\\' 😶) [Worst message',\n",
       " '\"How do you ❤ each category ? (No response means \\'no advice\\' 😶) [Worst neat line',\n",
       " '\"How do you ❤ each category ? (No response means \\'no advice\\' 😶) [Worst projection',\n",
       " '\"How do you ❤ each category ? (No response means \\'no advice\\' 😶) [Worst readibility',\n",
       " '\"How do you ❤ each category ? (No response means \\'no advice\\' 😶) [Worst relief map',\n",
       " '\"How do you ❤ each category ? (No response means \\'no advice\\' 😶) [Worst resolution',\n",
       " '\"How do you ❤ each category ? (No response means \\'no advice\\' 😶) [Worst scale',\n",
       " '\"How do you ❤ each category ? (No response means \\'no advice\\' 😶) [Worst scale bar',\n",
       " '\"How do you ❤ each category ? (No response means \\'no advice\\' 😶) [Worst software',\n",
       " '\"How do you ❤ each category ? (No response means \\'no advice\\' 😶) [Worst statistical map',\n",
       " '\"How do you ❤ each category ? (No response means \\'no advice\\' 😶) [Worst storymap (a bit off topic)',\n",
       " '\"How do you ❤ each category ? (No response means \\'no advice\\' 😶) [Worst symbols',\n",
       " '\"How do you ❤ each category ? (No response means \\'no advice\\' 😶) [Worst thematic map',\n",
       " '\"How do you ❤ each category ? (No response means \\'no advice\\' 😶) [Worst title',\n",
       " '\"How do you ❤ each category ? (No response means \\'no advice\\' 😶) [Worst topographic map',\n",
       " '\"How do you ❤ each category ? (No response means \\'no advice\\' 😶) [Worst tube(r) map? 🥔⭕️',\n",
       " '\"How do you ❤ each category ? (No response means \\'no advice\\' 😶) [Worst understandability',\n",
       " '\"How do you ❤ each category ? (No response means \\'no advice\\' 😶) [Worst use of rasters as polygon fill patterns.',\n",
       " '\"How do you ❤ each category ? (No response means \\'no advice\\' 😶) [Worst way to leave New Zealand off a map',\n",
       " '\"How do you ❤ each category ? (No response means \\'no advice\\' 😶) [Worst spelling errors! Worst kerning errors]\"\\n']"
      ]
     },
     "execution_count": 12,
     "metadata": {},
     "output_type": "execute_result"
    }
   ],
   "source": [
    "s = first_line.split(\"]\\\",\")\n",
    "s"
   ]
  },
  {
   "cell_type": "markdown",
   "id": "a6d49892",
   "metadata": {},
   "source": [
    "We reformat the variables :"
   ]
  },
  {
   "cell_type": "code",
   "execution_count": 16,
   "id": "90f0efc7",
   "metadata": {},
   "outputs": [
    {
     "data": {
      "text/plain": [
       "['Horodateur, Cartography is my passion',\n",
       " 'You really shouldve normalized that',\n",
       " 'that really should have been like 3 different maps',\n",
       " '#nothingMap (See #thingsMap](https://twitter.com/search?q=%23thingsmap&src=typed_query))',\n",
       " '...Ooooh, you wanted to map the OTHER variable..?',\n",
       " 'A hurricane track prediction map amended in sharpie (Donal Trump inspiration : https://twitter.com/marinemaps/status/1574849272121593868)',\n",
       " 'A map clearly made with ArcGIS©℗®™, QGIS©℗®™ or MapInfo©℗®™',\n",
       " 'Bad point symbols',\n",
       " 'Bees',\n",
       " 'Chloropleth',\n",
       " 'Chuck Norris says : you do not need to know geography to be a cartographer',\n",
       " 'Colorblind',\n",
       " 'Contrast',\n",
       " 'Could have been a bar chart',\n",
       " 'Doritos Map of the US',\n",
       " 'Drop shadow connoisseur',\n",
       " 'Egregious and unforgivable omissions: New Zealand, Aleutian Islands, UP Michigan, Scandinavia,  etc.',\n",
       " 'Historic Map With Terrain Blender Render Bender',\n",
       " 'Horrible use of choropleth',\n",
       " 'Im a Scientist',\n",
       " 'In a hurry',\n",
       " 'Irrelevant variables',\n",
       " 'JeT ScaLe CAn MeLT eYE bALLs',\n",
       " 'Label every address of every parcel (for my fellow local gov workers)',\n",
       " 'Map clearly made with Microsoft Paint',\n",
       " 'Mapillarious experience',\n",
       " 'Maybe Worst location map/area of study',\n",
       " 'Might contain nuts',\n",
       " 'Most boring map',\n",
       " 'Most cluttered map',\n",
       " 'My Cartography Teacher Had A Checklist And This Map Ticks Them All',\n",
       " 'My monitor was inverted, I swear',\n",
       " 'NSFW',\n",
       " 'Not colorblind safe',\n",
       " 'Not enough/Too much Text',\n",
       " 'Poor raster rendering',\n",
       " 'Population per capita 🤩',\n",
       " 'Rainbow is the new black',\n",
       " 'Really NSFW',\n",
       " 'Shocking correlations',\n",
       " 'Source : trust me bro',\n",
       " 'Superficial intelligence Map',\n",
       " 'Teal',\n",
       " 'The map with the highest number of hardly detectable errors (e.g. slight misplacements)',\n",
       " 'Transparency solves everything',\n",
       " 'World is distorted, not my projection',\n",
       " 'Worst make a country look like its flag classification map',\n",
       " 'Worst sarcastic map (e.g. electricity in the Roman Empire; population per capita)',\n",
       " 'Worst this non-island country looks like an island map',\n",
       " 'Worst (to long/to many) Copyright Informations',\n",
       " 'Worst 3D Map',\n",
       " 'Worst Google Maps, etc. error (e.g. non-existent roads that people try to drive down with their GPS).',\n",
       " 'Worst Map for hiking',\n",
       " 'Worst Twitter emoji map!!!',\n",
       " 'Worst Valentines Day Map ? 💔',\n",
       " 'Worst abuse of digital elevation applied to an antique map',\n",
       " 'Worst accidental(?) annexation of part of another territory',\n",
       " 'Worst airline route map',\n",
       " 'Worst alternative to Google Maps and OpenStreetMap',\n",
       " 'Worst animation',\n",
       " 'Worst buffer?',\n",
       " 'Worst city map',\n",
       " 'Worst classification scheme',\n",
       " 'Worst colors',\n",
       " 'Worst data',\n",
       " 'Worst decorations',\n",
       " 'Worst dynamic map',\n",
       " 'Worst elevation map',\n",
       " 'Worst extrusion',\n",
       " 'Worst flow map',\n",
       " 'Worst font (this is easy, everybody just gets to use papyrus 🤪)',\n",
       " 'Worst hand-drawn map',\n",
       " 'Worst intention',\n",
       " 'Worst interactivity',\n",
       " 'Worst inventivity',\n",
       " 'Worst labels',\n",
       " 'Worst legend',\n",
       " 'Worst legend',\n",
       " 'Worst marine map',\n",
       " 'Worst material and tangibility',\n",
       " 'Worst message',\n",
       " 'Worst neat line',\n",
       " 'Worst projection',\n",
       " 'Worst readibility',\n",
       " 'Worst relief map',\n",
       " 'Worst resolution',\n",
       " 'Worst scale',\n",
       " 'Worst scale bar',\n",
       " 'Worst software',\n",
       " 'Worst statistical map',\n",
       " 'Worst storymap (a bit off topic)',\n",
       " 'Worst symbols',\n",
       " 'Worst thematic map',\n",
       " 'Worst title',\n",
       " 'Worst topographic map',\n",
       " 'Worst tube(r) map? 🥔⭕️',\n",
       " 'Worst understandability',\n",
       " 'Worst use of rasters as polygon fill patterns.',\n",
       " 'Worst way to leave New Zealand off a map',\n",
       " 'Worst spelling errors! Worst kerning errors]']"
      ]
     },
     "execution_count": 16,
     "metadata": {},
     "output_type": "execute_result"
    }
   ],
   "source": [
    "def reformat_string(elt):\n",
    "    elt = elt\\\n",
    "    .replace(\"How do you ❤ each category ? (No response means \\'no advice\\' 😶)\", \"\")\\\n",
    "    .replace(\"[\", \"\")\\\n",
    "    .replace(\"\\'\" , \"\")\\\n",
    "    .replace(\"\\\"\" , \"\")\\\n",
    "    .strip()\n",
    "    \n",
    "    return(elt)\n",
    "\n",
    "variables = [reformat_string(elt) for elt in s]\n",
    "variables"
   ]
  },
  {
   "cell_type": "markdown",
   "id": "8cfef6e4",
   "metadata": {},
   "source": [
    "Actually, the first element contains the timestamp"
   ]
  },
  {
   "cell_type": "code",
   "execution_count": 17,
   "id": "78a2b8ba",
   "metadata": {},
   "outputs": [
    {
     "data": {
      "text/plain": [
       "'Horodateur, Cartography is my passion'"
      ]
     },
     "execution_count": 17,
     "metadata": {},
     "output_type": "execute_result"
    }
   ],
   "source": [
    "variables[0]"
   ]
  },
  {
   "cell_type": "code",
   "execution_count": 18,
   "id": "43da1030",
   "metadata": {},
   "outputs": [
    {
     "data": {
      "text/plain": [
       "['Horodateur', 'Cartography is my passion']"
      ]
     },
     "execution_count": 18,
     "metadata": {},
     "output_type": "execute_result"
    }
   ],
   "source": [
    "variables[0].split(\", \")"
   ]
  },
  {
   "cell_type": "markdown",
   "id": "8ac449df",
   "metadata": {},
   "source": [
    "We correctly assembly the variable names :"
   ]
  },
  {
   "cell_type": "code",
   "execution_count": 19,
   "id": "45ab9001",
   "metadata": {},
   "outputs": [
    {
     "data": {
      "text/plain": [
       "['Horodateur',\n",
       " 'Cartography is my passion',\n",
       " 'You really shouldve normalized that',\n",
       " 'that really should have been like 3 different maps',\n",
       " '#nothingMap (See #thingsMap](https://twitter.com/search?q=%23thingsmap&src=typed_query))',\n",
       " '...Ooooh, you wanted to map the OTHER variable..?',\n",
       " 'A hurricane track prediction map amended in sharpie (Donal Trump inspiration : https://twitter.com/marinemaps/status/1574849272121593868)',\n",
       " 'A map clearly made with ArcGIS©℗®™, QGIS©℗®™ or MapInfo©℗®™',\n",
       " 'Bad point symbols',\n",
       " 'Bees',\n",
       " 'Chloropleth',\n",
       " 'Chuck Norris says : you do not need to know geography to be a cartographer',\n",
       " 'Colorblind',\n",
       " 'Contrast',\n",
       " 'Could have been a bar chart',\n",
       " 'Doritos Map of the US',\n",
       " 'Drop shadow connoisseur',\n",
       " 'Egregious and unforgivable omissions: New Zealand, Aleutian Islands, UP Michigan, Scandinavia,  etc.',\n",
       " 'Historic Map With Terrain Blender Render Bender',\n",
       " 'Horrible use of choropleth',\n",
       " 'Im a Scientist',\n",
       " 'In a hurry',\n",
       " 'Irrelevant variables',\n",
       " 'JeT ScaLe CAn MeLT eYE bALLs',\n",
       " 'Label every address of every parcel (for my fellow local gov workers)',\n",
       " 'Map clearly made with Microsoft Paint',\n",
       " 'Mapillarious experience',\n",
       " 'Maybe Worst location map/area of study',\n",
       " 'Might contain nuts',\n",
       " 'Most boring map',\n",
       " 'Most cluttered map',\n",
       " 'My Cartography Teacher Had A Checklist And This Map Ticks Them All',\n",
       " 'My monitor was inverted, I swear',\n",
       " 'NSFW',\n",
       " 'Not colorblind safe',\n",
       " 'Not enough/Too much Text',\n",
       " 'Poor raster rendering',\n",
       " 'Population per capita 🤩',\n",
       " 'Rainbow is the new black',\n",
       " 'Really NSFW',\n",
       " 'Shocking correlations',\n",
       " 'Source : trust me bro',\n",
       " 'Superficial intelligence Map',\n",
       " 'Teal',\n",
       " 'The map with the highest number of hardly detectable errors (e.g. slight misplacements)',\n",
       " 'Transparency solves everything',\n",
       " 'World is distorted, not my projection',\n",
       " 'Worst make a country look like its flag classification map',\n",
       " 'Worst sarcastic map (e.g. electricity in the Roman Empire; population per capita)',\n",
       " 'Worst this non-island country looks like an island map',\n",
       " 'Worst (to long/to many) Copyright Informations',\n",
       " 'Worst 3D Map',\n",
       " 'Worst Google Maps, etc. error (e.g. non-existent roads that people try to drive down with their GPS).',\n",
       " 'Worst Map for hiking',\n",
       " 'Worst Twitter emoji map!!!',\n",
       " 'Worst Valentines Day Map ? 💔',\n",
       " 'Worst abuse of digital elevation applied to an antique map',\n",
       " 'Worst accidental(?) annexation of part of another territory',\n",
       " 'Worst airline route map',\n",
       " 'Worst alternative to Google Maps and OpenStreetMap',\n",
       " 'Worst animation',\n",
       " 'Worst buffer?',\n",
       " 'Worst city map',\n",
       " 'Worst classification scheme',\n",
       " 'Worst colors',\n",
       " 'Worst data',\n",
       " 'Worst decorations',\n",
       " 'Worst dynamic map',\n",
       " 'Worst elevation map',\n",
       " 'Worst extrusion',\n",
       " 'Worst flow map',\n",
       " 'Worst font (this is easy, everybody just gets to use papyrus 🤪)',\n",
       " 'Worst hand-drawn map',\n",
       " 'Worst intention',\n",
       " 'Worst interactivity',\n",
       " 'Worst inventivity',\n",
       " 'Worst labels',\n",
       " 'Worst legend',\n",
       " 'Worst legend',\n",
       " 'Worst marine map',\n",
       " 'Worst material and tangibility',\n",
       " 'Worst message',\n",
       " 'Worst neat line',\n",
       " 'Worst projection',\n",
       " 'Worst readibility',\n",
       " 'Worst relief map',\n",
       " 'Worst resolution',\n",
       " 'Worst scale',\n",
       " 'Worst scale bar',\n",
       " 'Worst software',\n",
       " 'Worst statistical map',\n",
       " 'Worst storymap (a bit off topic)',\n",
       " 'Worst symbols',\n",
       " 'Worst thematic map',\n",
       " 'Worst title',\n",
       " 'Worst topographic map',\n",
       " 'Worst tube(r) map? 🥔⭕️',\n",
       " 'Worst understandability',\n",
       " 'Worst use of rasters as polygon fill patterns.',\n",
       " 'Worst way to leave New Zealand off a map',\n",
       " 'Worst spelling errors! Worst kerning errors]']"
      ]
     },
     "execution_count": 19,
     "metadata": {},
     "output_type": "execute_result"
    }
   ],
   "source": [
    "variables = variables[0].split(\", \") + variables[1:len(variables)]\n",
    "variables"
   ]
  },
  {
   "cell_type": "code",
   "execution_count": 21,
   "id": "54c74a21",
   "metadata": {},
   "outputs": [
    {
     "data": {
      "text/plain": [
       "101"
      ]
     },
     "execution_count": 21,
     "metadata": {},
     "output_type": "execute_result"
    }
   ],
   "source": [
    "len(variables)"
   ]
  },
  {
   "cell_type": "markdown",
   "id": "58899877",
   "metadata": {},
   "source": [
    "Let's remove '\\n' occurrences (just in case) :"
   ]
  },
  {
   "cell_type": "code",
   "execution_count": 20,
   "id": "691dc3d4",
   "metadata": {},
   "outputs": [],
   "source": [
    "lines = [elt.strip('\\n') for elt in lines]"
   ]
  },
  {
   "cell_type": "markdown",
   "id": "01ccd1d5",
   "metadata": {},
   "source": [
    "Let's separate data (which starts at second line) :"
   ]
  },
  {
   "cell_type": "code",
   "execution_count": 26,
   "id": "95589017",
   "metadata": {},
   "outputs": [],
   "source": [
    "data = lines[1:len(lines)]"
   ]
  },
  {
   "cell_type": "code",
   "execution_count": 27,
   "id": "0787ed97",
   "metadata": {},
   "outputs": [
    {
     "data": {
      "text/plain": [
       "['\"2022/10/17 5:49:18 PM UTC+1\",\"\",\"\",\"\",\"\",\"\",\"\",\"\",\"\",\"\",\"\",\"\",\"\",\"\",\"\",\"\",\"\",\"\",\"\",\"\",\"\",\"\",\"\",\"\",\"\",\"\",\"\",\"\",\"\",\"\",\"\",\"\",\"\",\"\",\"\",\"\",\"\",\"\",\"\",\"\",\"\",\"\",\"\",\"\",\"\",\"\",\"\",\"\",\"\",\"\",\"\",\"\",\"\",\"\",\"\",\"\",\"\",\"\",\"\",\"\",\"\",\"\",\"\",\"\",\"\",\"\",\"\",\"\",\"\",\"\",\"\",\"\",\"\",\"\",\"\",\"\",\"\",\"\",\"\",\"\",\"\",\"\",\"\",\"\",\"\",\"\",\"\",\"\",\"\",\"\",\"\",\"\",\"\",\"\",\"\",\"\",\"\",\"\",\"\",\"\",\"\"',\n",
       " '\"2022/10/17 5:49:19 PM UTC+1\",\"\",\"\",\"\",\"\",\"\",\"\",\"\",\"\",\"\",\"\",\"\",\"\",\"\",\"\",\"\",\"\",\"\",\"\",\"\",\"\",\"\",\"\",\"\",\"\",\"\",\"\",\"\",\"\",\"\",\"\",\"\",\"\",\"\",\"\",\"\",\"\",\"\",\"\",\"\",\"\",\"\",\"\",\"\",\"\",\"\",\"\",\"\",\"\",\"\",\"\",\"\",\"\",\"\",\"\",\"\",\"\",\"\",\"\",\"\",\"\",\"\",\"\",\"\",\"\",\"\",\"\",\"\",\"\",\"\",\"\",\"\",\"\",\"\",\"\",\"\",\"\",\"\",\"\",\"\",\"\",\"\",\"\",\"\",\"\",\"\",\"\",\"\",\"\",\"\",\"\",\"\",\"\",\"\",\"\",\"\",\"\",\"\",\"\",\"\",\"\"']"
      ]
     },
     "execution_count": 27,
     "metadata": {},
     "output_type": "execute_result"
    }
   ],
   "source": [
    "data[0:2]"
   ]
  },
  {
   "cell_type": "code",
   "execution_count": 28,
   "id": "c0a34c3b",
   "metadata": {},
   "outputs": [],
   "source": [
    "data = [elt.split(\",\") for elt in data]"
   ]
  },
  {
   "cell_type": "code",
   "execution_count": 29,
   "id": "c6a99026",
   "metadata": {},
   "outputs": [
    {
     "data": {
      "text/plain": [
       "[['\"2022/10/17 5:49:18 PM UTC+1\"',\n",
       "  '\"\"',\n",
       "  '\"\"',\n",
       "  '\"\"',\n",
       "  '\"\"',\n",
       "  '\"\"',\n",
       "  '\"\"',\n",
       "  '\"\"',\n",
       "  '\"\"',\n",
       "  '\"\"',\n",
       "  '\"\"',\n",
       "  '\"\"',\n",
       "  '\"\"',\n",
       "  '\"\"',\n",
       "  '\"\"',\n",
       "  '\"\"',\n",
       "  '\"\"',\n",
       "  '\"\"',\n",
       "  '\"\"',\n",
       "  '\"\"',\n",
       "  '\"\"',\n",
       "  '\"\"',\n",
       "  '\"\"',\n",
       "  '\"\"',\n",
       "  '\"\"',\n",
       "  '\"\"',\n",
       "  '\"\"',\n",
       "  '\"\"',\n",
       "  '\"\"',\n",
       "  '\"\"',\n",
       "  '\"\"',\n",
       "  '\"\"',\n",
       "  '\"\"',\n",
       "  '\"\"',\n",
       "  '\"\"',\n",
       "  '\"\"',\n",
       "  '\"\"',\n",
       "  '\"\"',\n",
       "  '\"\"',\n",
       "  '\"\"',\n",
       "  '\"\"',\n",
       "  '\"\"',\n",
       "  '\"\"',\n",
       "  '\"\"',\n",
       "  '\"\"',\n",
       "  '\"\"',\n",
       "  '\"\"',\n",
       "  '\"\"',\n",
       "  '\"\"',\n",
       "  '\"\"',\n",
       "  '\"\"',\n",
       "  '\"\"',\n",
       "  '\"\"',\n",
       "  '\"\"',\n",
       "  '\"\"',\n",
       "  '\"\"',\n",
       "  '\"\"',\n",
       "  '\"\"',\n",
       "  '\"\"',\n",
       "  '\"\"',\n",
       "  '\"\"',\n",
       "  '\"\"',\n",
       "  '\"\"',\n",
       "  '\"\"',\n",
       "  '\"\"',\n",
       "  '\"\"',\n",
       "  '\"\"',\n",
       "  '\"\"',\n",
       "  '\"\"',\n",
       "  '\"\"',\n",
       "  '\"\"',\n",
       "  '\"\"',\n",
       "  '\"\"',\n",
       "  '\"\"',\n",
       "  '\"\"',\n",
       "  '\"\"',\n",
       "  '\"\"',\n",
       "  '\"\"',\n",
       "  '\"\"',\n",
       "  '\"\"',\n",
       "  '\"\"',\n",
       "  '\"\"',\n",
       "  '\"\"',\n",
       "  '\"\"',\n",
       "  '\"\"',\n",
       "  '\"\"',\n",
       "  '\"\"',\n",
       "  '\"\"',\n",
       "  '\"\"',\n",
       "  '\"\"',\n",
       "  '\"\"',\n",
       "  '\"\"',\n",
       "  '\"\"',\n",
       "  '\"\"',\n",
       "  '\"\"',\n",
       "  '\"\"',\n",
       "  '\"\"',\n",
       "  '\"\"',\n",
       "  '\"\"',\n",
       "  '\"\"',\n",
       "  '\"\"'],\n",
       " ['\"2022/10/17 5:49:19 PM UTC+1\"',\n",
       "  '\"\"',\n",
       "  '\"\"',\n",
       "  '\"\"',\n",
       "  '\"\"',\n",
       "  '\"\"',\n",
       "  '\"\"',\n",
       "  '\"\"',\n",
       "  '\"\"',\n",
       "  '\"\"',\n",
       "  '\"\"',\n",
       "  '\"\"',\n",
       "  '\"\"',\n",
       "  '\"\"',\n",
       "  '\"\"',\n",
       "  '\"\"',\n",
       "  '\"\"',\n",
       "  '\"\"',\n",
       "  '\"\"',\n",
       "  '\"\"',\n",
       "  '\"\"',\n",
       "  '\"\"',\n",
       "  '\"\"',\n",
       "  '\"\"',\n",
       "  '\"\"',\n",
       "  '\"\"',\n",
       "  '\"\"',\n",
       "  '\"\"',\n",
       "  '\"\"',\n",
       "  '\"\"',\n",
       "  '\"\"',\n",
       "  '\"\"',\n",
       "  '\"\"',\n",
       "  '\"\"',\n",
       "  '\"\"',\n",
       "  '\"\"',\n",
       "  '\"\"',\n",
       "  '\"\"',\n",
       "  '\"\"',\n",
       "  '\"\"',\n",
       "  '\"\"',\n",
       "  '\"\"',\n",
       "  '\"\"',\n",
       "  '\"\"',\n",
       "  '\"\"',\n",
       "  '\"\"',\n",
       "  '\"\"',\n",
       "  '\"\"',\n",
       "  '\"\"',\n",
       "  '\"\"',\n",
       "  '\"\"',\n",
       "  '\"\"',\n",
       "  '\"\"',\n",
       "  '\"\"',\n",
       "  '\"\"',\n",
       "  '\"\"',\n",
       "  '\"\"',\n",
       "  '\"\"',\n",
       "  '\"\"',\n",
       "  '\"\"',\n",
       "  '\"\"',\n",
       "  '\"\"',\n",
       "  '\"\"',\n",
       "  '\"\"',\n",
       "  '\"\"',\n",
       "  '\"\"',\n",
       "  '\"\"',\n",
       "  '\"\"',\n",
       "  '\"\"',\n",
       "  '\"\"',\n",
       "  '\"\"',\n",
       "  '\"\"',\n",
       "  '\"\"',\n",
       "  '\"\"',\n",
       "  '\"\"',\n",
       "  '\"\"',\n",
       "  '\"\"',\n",
       "  '\"\"',\n",
       "  '\"\"',\n",
       "  '\"\"',\n",
       "  '\"\"',\n",
       "  '\"\"',\n",
       "  '\"\"',\n",
       "  '\"\"',\n",
       "  '\"\"',\n",
       "  '\"\"',\n",
       "  '\"\"',\n",
       "  '\"\"',\n",
       "  '\"\"',\n",
       "  '\"\"',\n",
       "  '\"\"',\n",
       "  '\"\"',\n",
       "  '\"\"',\n",
       "  '\"\"',\n",
       "  '\"\"',\n",
       "  '\"\"',\n",
       "  '\"\"',\n",
       "  '\"\"',\n",
       "  '\"\"',\n",
       "  '\"\"',\n",
       "  '\"\"']]"
      ]
     },
     "execution_count": 29,
     "metadata": {},
     "output_type": "execute_result"
    }
   ],
   "source": [
    "data[0:2]"
   ]
  },
  {
   "cell_type": "code",
   "execution_count": 31,
   "id": "a51c4e91",
   "metadata": {},
   "outputs": [
    {
     "data": {
      "text/plain": [
       "True"
      ]
     },
     "execution_count": 31,
     "metadata": {},
     "output_type": "execute_result"
    }
   ],
   "source": [
    "len(data[0]) == len(variables)"
   ]
  },
  {
   "cell_type": "markdown",
   "id": "dfdaa7cd",
   "metadata": {},
   "source": [
    "It's OK : variables and data have the same length.\n",
    "\n",
    "We can concatenate data."
   ]
  },
  {
   "cell_type": "code",
   "execution_count": 91,
   "id": "7243e8fd",
   "metadata": {},
   "outputs": [
    {
     "name": "stdout",
     "output_type": "stream",
     "text": [
      "30012\n"
     ]
    }
   ],
   "source": [
    "print(len(data))"
   ]
  },
  {
   "cell_type": "markdown",
   "id": "0e11afc8",
   "metadata": {},
   "source": [
    "By the way, we have **30012** results for the poll.\n",
    "\n",
    "We have to transform each element of the list to make it a dictionary that will be converted afterwards as a data frame :"
   ]
  },
  {
   "cell_type": "code",
   "execution_count": 32,
   "id": "ae279d23",
   "metadata": {},
   "outputs": [
    {
     "data": {
      "text/plain": [
       "{'Horodateur': ['\"2022/10/17 5:49:18 PM UTC+1\"'],\n",
       " 'Cartography is my passion': ['\"\"'],\n",
       " 'You really shouldve normalized that': ['\"\"'],\n",
       " 'that really should have been like 3 different maps': ['\"\"'],\n",
       " '#nothingMap (See #thingsMap](https://twitter.com/search?q=%23thingsmap&src=typed_query))': ['\"\"'],\n",
       " '...Ooooh, you wanted to map the OTHER variable..?': ['\"\"'],\n",
       " 'A hurricane track prediction map amended in sharpie (Donal Trump inspiration : https://twitter.com/marinemaps/status/1574849272121593868)': ['\"\"'],\n",
       " 'A map clearly made with ArcGIS©℗®™, QGIS©℗®™ or MapInfo©℗®™': ['\"\"'],\n",
       " 'Bad point symbols': ['\"\"'],\n",
       " 'Bees': ['\"\"'],\n",
       " 'Chloropleth': ['\"\"'],\n",
       " 'Chuck Norris says : you do not need to know geography to be a cartographer': ['\"\"'],\n",
       " 'Colorblind': ['\"\"'],\n",
       " 'Contrast': ['\"\"'],\n",
       " 'Could have been a bar chart': ['\"\"'],\n",
       " 'Doritos Map of the US': ['\"\"'],\n",
       " 'Drop shadow connoisseur': ['\"\"'],\n",
       " 'Egregious and unforgivable omissions: New Zealand, Aleutian Islands, UP Michigan, Scandinavia,  etc.': ['\"\"'],\n",
       " 'Historic Map With Terrain Blender Render Bender': ['\"\"'],\n",
       " 'Horrible use of choropleth': ['\"\"'],\n",
       " 'Im a Scientist': ['\"\"'],\n",
       " 'In a hurry': ['\"\"'],\n",
       " 'Irrelevant variables': ['\"\"'],\n",
       " 'JeT ScaLe CAn MeLT eYE bALLs': ['\"\"'],\n",
       " 'Label every address of every parcel (for my fellow local gov workers)': ['\"\"'],\n",
       " 'Map clearly made with Microsoft Paint': ['\"\"'],\n",
       " 'Mapillarious experience': ['\"\"'],\n",
       " 'Maybe Worst location map/area of study': ['\"\"'],\n",
       " 'Might contain nuts': ['\"\"'],\n",
       " 'Most boring map': ['\"\"'],\n",
       " 'Most cluttered map': ['\"\"'],\n",
       " 'My Cartography Teacher Had A Checklist And This Map Ticks Them All': ['\"\"'],\n",
       " 'My monitor was inverted, I swear': ['\"\"'],\n",
       " 'NSFW': ['\"\"'],\n",
       " 'Not colorblind safe': ['\"\"'],\n",
       " 'Not enough/Too much Text': ['\"\"'],\n",
       " 'Poor raster rendering': ['\"\"'],\n",
       " 'Population per capita 🤩': ['\"\"'],\n",
       " 'Rainbow is the new black': ['\"\"'],\n",
       " 'Really NSFW': ['\"\"'],\n",
       " 'Shocking correlations': ['\"\"'],\n",
       " 'Source : trust me bro': ['\"\"'],\n",
       " 'Superficial intelligence Map': ['\"\"'],\n",
       " 'Teal': ['\"\"'],\n",
       " 'The map with the highest number of hardly detectable errors (e.g. slight misplacements)': ['\"\"'],\n",
       " 'Transparency solves everything': ['\"\"'],\n",
       " 'World is distorted, not my projection': ['\"\"'],\n",
       " 'Worst make a country look like its flag classification map': ['\"\"'],\n",
       " 'Worst sarcastic map (e.g. electricity in the Roman Empire; population per capita)': ['\"\"'],\n",
       " 'Worst this non-island country looks like an island map': ['\"\"'],\n",
       " 'Worst (to long/to many) Copyright Informations': ['\"\"'],\n",
       " 'Worst 3D Map': ['\"\"'],\n",
       " 'Worst Google Maps, etc. error (e.g. non-existent roads that people try to drive down with their GPS).': ['\"\"'],\n",
       " 'Worst Map for hiking': ['\"\"'],\n",
       " 'Worst Twitter emoji map!!!': ['\"\"'],\n",
       " 'Worst Valentines Day Map ? 💔': ['\"\"'],\n",
       " 'Worst abuse of digital elevation applied to an antique map': ['\"\"'],\n",
       " 'Worst accidental(?) annexation of part of another territory': ['\"\"'],\n",
       " 'Worst airline route map': ['\"\"'],\n",
       " 'Worst alternative to Google Maps and OpenStreetMap': ['\"\"'],\n",
       " 'Worst animation': ['\"\"'],\n",
       " 'Worst buffer?': ['\"\"'],\n",
       " 'Worst city map': ['\"\"'],\n",
       " 'Worst classification scheme': ['\"\"'],\n",
       " 'Worst colors': ['\"\"'],\n",
       " 'Worst data': ['\"\"'],\n",
       " 'Worst decorations': ['\"\"'],\n",
       " 'Worst dynamic map': ['\"\"'],\n",
       " 'Worst elevation map': ['\"\"'],\n",
       " 'Worst extrusion': ['\"\"'],\n",
       " 'Worst flow map': ['\"\"'],\n",
       " 'Worst font (this is easy, everybody just gets to use papyrus 🤪)': ['\"\"'],\n",
       " 'Worst hand-drawn map': ['\"\"'],\n",
       " 'Worst intention': ['\"\"'],\n",
       " 'Worst interactivity': ['\"\"'],\n",
       " 'Worst inventivity': ['\"\"'],\n",
       " 'Worst labels': ['\"\"'],\n",
       " 'Worst legend': ['\"\"'],\n",
       " 'Worst marine map': ['\"\"'],\n",
       " 'Worst material and tangibility': ['\"\"'],\n",
       " 'Worst message': ['\"\"'],\n",
       " 'Worst neat line': ['\"\"'],\n",
       " 'Worst projection': ['\"\"'],\n",
       " 'Worst readibility': ['\"\"'],\n",
       " 'Worst relief map': ['\"\"'],\n",
       " 'Worst resolution': ['\"\"'],\n",
       " 'Worst scale': ['\"\"'],\n",
       " 'Worst scale bar': ['\"\"'],\n",
       " 'Worst software': ['\"\"'],\n",
       " 'Worst statistical map': ['\"\"'],\n",
       " 'Worst storymap (a bit off topic)': ['\"\"'],\n",
       " 'Worst symbols': ['\"\"'],\n",
       " 'Worst thematic map': ['\"\"'],\n",
       " 'Worst title': ['\"\"'],\n",
       " 'Worst topographic map': ['\"\"'],\n",
       " 'Worst tube(r) map? 🥔⭕️': ['\"\"'],\n",
       " 'Worst understandability': ['\"\"'],\n",
       " 'Worst use of rasters as polygon fill patterns.': ['\"\"'],\n",
       " 'Worst way to leave New Zealand off a map': ['\"\"'],\n",
       " 'Worst spelling errors! Worst kerning errors]': ['\"\"']}"
      ]
     },
     "execution_count": 32,
     "metadata": {},
     "output_type": "execute_result"
    }
   ],
   "source": [
    "def make_dict(l):\n",
    "    data2 = [[elt] for elt in l]\n",
    "    d = dict(zip(variables, data2))\n",
    "    return(d)\n",
    "\n",
    "make_dict(data[0])"
   ]
  },
  {
   "cell_type": "code",
   "execution_count": null,
   "id": "048ec99c",
   "metadata": {},
   "outputs": [],
   "source": [
    "rows = []\n",
    "for i, elt in enumerate(data):\n",
    "    print(i)\n",
    "    d = make_dict(elt)\n",
    "    row = pd.DataFrame(d)\n",
    "    rows.append(row)"
   ]
  },
  {
   "cell_type": "code",
   "execution_count": 93,
   "id": "ef0e8bb5",
   "metadata": {},
   "outputs": [],
   "source": [
    "data = pd.concat(rows)"
   ]
  },
  {
   "cell_type": "markdown",
   "id": "e8e10e85",
   "metadata": {},
   "source": [
    "Let's export our cleant file :"
   ]
  },
  {
   "cell_type": "code",
   "execution_count": 94,
   "id": "eb8498f6",
   "metadata": {},
   "outputs": [],
   "source": [
    "data.to_csv(\"../data/02_Poll/#MapFailbruaryChallenge--cleaned.csv\")"
   ]
  },
  {
   "cell_type": "code",
   "execution_count": 98,
   "id": "35fc6b6d",
   "metadata": {},
   "outputs": [
    {
     "data": {
      "text/plain": [
       "Index(['Horodateur', 'Cartography is my passion',\n",
       "       'You really shouldve normalized that',\n",
       "       'that really should have been like 3 different maps',\n",
       "       '#nothingMap (See #thingsMap](https://twitter.com/search?q=%23thingsmap&src=typed_query))',\n",
       "       '...Ooooh, you wanted to map the OTHER variable..?',\n",
       "       'A hurricane track prediction map amended in sharpie (Donal Trump inspiration : https://twitter.com/marinemaps/status/1574849272121593868)',\n",
       "       'A map clearly made with ArcGIS©℗®™, QGIS©℗®™ or MapInfo©℗®™',\n",
       "       'Bad point symbols', 'Bees', 'Chloropleth',\n",
       "       'Chuck Norris says : you do not need to know geography to be a cartographer',\n",
       "       'Colorblind', 'Contrast', 'Could have been a bar chart',\n",
       "       'Doritos Map of the US', 'Drop shadow connoisseur',\n",
       "       'Egregious and unforgivable omissions: New Zealand, Aleutian Islands, UP Michigan, Scandinavia,  etc.',\n",
       "       'Historic Map With Terrain Blender Render Bender',\n",
       "       'Horrible use of choropleth', 'Im a Scientist', 'In a hurry',\n",
       "       'Irrelevant variables', 'JeT ScaLe CAn MeLT eYE bALLs',\n",
       "       'Label every address of every parcel (for my fellow local gov workers)',\n",
       "       'Map clearly made with Microsoft Paint', 'Mapillarious experience',\n",
       "       'Maybe Worst location map/area of study', 'Might contain nuts',\n",
       "       'Most boring map', 'Most cluttered map',\n",
       "       'My Cartography Teacher Had A Checklist And This Map Ticks Them All',\n",
       "       'My monitor was inverted, I swear', 'NSFW', 'Not colorblind safe',\n",
       "       'Not enough/Too much Text', 'Poor raster rendering',\n",
       "       'Population per capita 🤩', 'Rainbow is the new black', 'Really NSFW',\n",
       "       'Shocking correlations', 'Source : trust me bro',\n",
       "       'Superficial intelligence Map', 'Teal',\n",
       "       'The map with the highest number of hardly detectable errors (e.g. slight misplacements)',\n",
       "       'Transparency solves everything',\n",
       "       'World is distorted, not my projection',\n",
       "       'Worst make a country look like its flag classification map',\n",
       "       'Worst sarcastic map (e.g. electricity in the Roman Empire; population per capita)',\n",
       "       'Worst this non-island country looks like an island map',\n",
       "       'Worst (to long/to many) Copyright Informations', 'Worst 3D Map',\n",
       "       'Worst Google Maps, etc. error (e.g. non-existent roads that people try to drive down with their GPS).',\n",
       "       'Worst Map for hiking', 'Worst Twitter emoji map!!!',\n",
       "       'Worst Valentines Day Map ? 💔',\n",
       "       'Worst abuse of digital elevation applied to an antique map',\n",
       "       'Worst accidental(?) annexation of part of another territory',\n",
       "       'Worst airline route map',\n",
       "       'Worst alternative to Google Maps and OpenStreetMap', 'Worst animation',\n",
       "       'Worst buffer?', 'Worst city map', 'Worst classification scheme',\n",
       "       'Worst colors', 'Worst data', 'Worst decorations', 'Worst dynamic map',\n",
       "       'Worst elevation map', 'Worst extrusion', 'Worst flow map',\n",
       "       'Worst font (this is easy, everybody just gets to use papyrus 🤪)',\n",
       "       'Worst hand-drawn map', 'Worst intention', 'Worst interactivity',\n",
       "       'Worst inventivity', 'Worst labels', 'Worst legend', 'Worst marine map',\n",
       "       'Worst material and tangibility', 'Worst message', 'Worst neat line',\n",
       "       'Worst projection', 'Worst readibility', 'Worst relief map',\n",
       "       'Worst resolution', 'Worst scale', 'Worst scale bar', 'Worst software',\n",
       "       'Worst statistical map', 'Worst storymap (a bit off topic)',\n",
       "       'Worst symbols', 'Worst thematic map', 'Worst title',\n",
       "       'Worst topographic map', 'Worst tube(r) map? 🥔⭕️',\n",
       "       'Worst understandability',\n",
       "       'Worst use of rasters as polygon fill patterns.',\n",
       "       'Worst way to leave New Zealand off a map',\n",
       "       'Worst spelling errors! Worst kerning errors]'],\n",
       "      dtype='object')"
      ]
     },
     "execution_count": 98,
     "metadata": {},
     "output_type": "execute_result"
    }
   ],
   "source": [
    "data.columns"
   ]
  },
  {
   "cell_type": "markdown",
   "id": "fc16816f",
   "metadata": {},
   "source": [
    "Let's look at the values of our data :"
   ]
  },
  {
   "cell_type": "code",
   "execution_count": 111,
   "id": "c34badf8",
   "metadata": {},
   "outputs": [],
   "source": [
    "v = data.loc[:, data.columns != 'Horodateur'].values"
   ]
  },
  {
   "cell_type": "code",
   "execution_count": 112,
   "id": "2d02d7a3",
   "metadata": {},
   "outputs": [
    {
     "data": {
      "text/plain": [
       "array(['\"\"', '\"I don\\'t like it  😐\"', '\"I like it ❤\"', '\"I love it ❤❤❤\"'],\n",
       "      dtype=object)"
      ]
     },
     "execution_count": 112,
     "metadata": {},
     "output_type": "execute_result"
    }
   ],
   "source": [
    "import numpy as np\n",
    "np.unique(v)"
   ]
  },
  {
   "cell_type": "markdown",
   "id": "328da29e",
   "metadata": {},
   "source": [
    "## Scoring 📊\n",
    "Let's calculate the scores :"
   ]
  },
  {
   "cell_type": "code",
   "execution_count": 126,
   "id": "8ce21931",
   "metadata": {},
   "outputs": [],
   "source": [
    "data2 = data\\\n",
    ".replace('\"\"', 0)\\\n",
    ".replace('\"I don\\'t like it  😐\"', -1)\\\n",
    ".replace('\"I like it ❤\"', 1)\\\n",
    ".replace('\"I love it ❤❤❤\"', 3)"
   ]
  },
  {
   "cell_type": "code",
   "execution_count": 128,
   "id": "04002d61",
   "metadata": {},
   "outputs": [
    {
     "data": {
      "text/plain": [
       "array([-1,  0,  1,  3], dtype=int64)"
      ]
     },
     "execution_count": 128,
     "metadata": {},
     "output_type": "execute_result"
    }
   ],
   "source": [
    "np.unique(data2.loc[:, data.columns != 'Horodateur'].values)"
   ]
  },
  {
   "cell_type": "markdown",
   "id": "7773dc7d",
   "metadata": {},
   "source": [
    "Let's calculate the score for each idea :"
   ]
  },
  {
   "cell_type": "code",
   "execution_count": 143,
   "id": "f86f6e5a",
   "metadata": {},
   "outputs": [],
   "source": [
    "rows = []\n",
    "for idea in data2.columns[1:]:\n",
    "    score = data2[[idea]].sum()\n",
    "    d = {'score' : score}\n",
    "    row = pd.DataFrame(d)\n",
    "    rows.append(row)"
   ]
  },
  {
   "cell_type": "code",
   "execution_count": 144,
   "id": "872a40a1",
   "metadata": {},
   "outputs": [],
   "source": [
    "scores = pd.concat(rows)"
   ]
  },
  {
   "cell_type": "code",
   "execution_count": 151,
   "id": "cc75e4d2",
   "metadata": {},
   "outputs": [],
   "source": [
    "scores = scores.sort_values('score', ascending = False)"
   ]
  },
  {
   "cell_type": "markdown",
   "id": "88f19412",
   "metadata": {},
   "source": [
    "## Selection ⭐\n",
    "Here, we find the 28 ideas for February :"
   ]
  },
  {
   "cell_type": "code",
   "execution_count": 152,
   "id": "6a6b5bdb",
   "metadata": {},
   "outputs": [
    {
     "data": {
      "text/html": [
       "<div>\n",
       "<style scoped>\n",
       "    .dataframe tbody tr th:only-of-type {\n",
       "        vertical-align: middle;\n",
       "    }\n",
       "\n",
       "    .dataframe tbody tr th {\n",
       "        vertical-align: top;\n",
       "    }\n",
       "\n",
       "    .dataframe thead th {\n",
       "        text-align: right;\n",
       "    }\n",
       "</style>\n",
       "<table border=\"1\" class=\"dataframe\">\n",
       "  <thead>\n",
       "    <tr style=\"text-align: right;\">\n",
       "      <th></th>\n",
       "      <th>score</th>\n",
       "    </tr>\n",
       "  </thead>\n",
       "  <tbody>\n",
       "    <tr>\n",
       "      <th>Map clearly made with Microsoft Paint</th>\n",
       "      <td>37</td>\n",
       "    </tr>\n",
       "    <tr>\n",
       "      <th>In a hurry</th>\n",
       "      <td>33</td>\n",
       "    </tr>\n",
       "    <tr>\n",
       "      <th>My Cartography Teacher Had A Checklist And This Map Ticks Them All</th>\n",
       "      <td>32</td>\n",
       "    </tr>\n",
       "    <tr>\n",
       "      <th>Source : trust me bro</th>\n",
       "      <td>32</td>\n",
       "    </tr>\n",
       "    <tr>\n",
       "      <th>Egregious and unforgivable omissions: New Zealand, Aleutian Islands, UP Michigan, Scandinavia,  etc.</th>\n",
       "      <td>31</td>\n",
       "    </tr>\n",
       "    <tr>\n",
       "      <th>Worst sarcastic map (e.g. electricity in the Roman Empire; population per capita)</th>\n",
       "      <td>29</td>\n",
       "    </tr>\n",
       "    <tr>\n",
       "      <th>Worst colors</th>\n",
       "      <td>29</td>\n",
       "    </tr>\n",
       "    <tr>\n",
       "      <th>Rainbow is the new black</th>\n",
       "      <td>29</td>\n",
       "    </tr>\n",
       "    <tr>\n",
       "      <th>Bad point symbols</th>\n",
       "      <td>29</td>\n",
       "    </tr>\n",
       "    <tr>\n",
       "      <th>Worst 3D Map</th>\n",
       "      <td>29</td>\n",
       "    </tr>\n",
       "    <tr>\n",
       "      <th>Horrible use of choropleth</th>\n",
       "      <td>28</td>\n",
       "    </tr>\n",
       "    <tr>\n",
       "      <th>Worst title</th>\n",
       "      <td>28</td>\n",
       "    </tr>\n",
       "    <tr>\n",
       "      <th>Not colorblind safe</th>\n",
       "      <td>27</td>\n",
       "    </tr>\n",
       "    <tr>\n",
       "      <th>Colorblind</th>\n",
       "      <td>27</td>\n",
       "    </tr>\n",
       "    <tr>\n",
       "      <th>Worst make a country look like its flag classification map</th>\n",
       "      <td>26</td>\n",
       "    </tr>\n",
       "    <tr>\n",
       "      <th>Chuck Norris says : you do not need to know geography to be a cartographer</th>\n",
       "      <td>26</td>\n",
       "    </tr>\n",
       "    <tr>\n",
       "      <th>Worst Valentines Day Map ? 💔</th>\n",
       "      <td>26</td>\n",
       "    </tr>\n",
       "    <tr>\n",
       "      <th>Not enough/Too much Text</th>\n",
       "      <td>26</td>\n",
       "    </tr>\n",
       "    <tr>\n",
       "      <th>NSFW</th>\n",
       "      <td>26</td>\n",
       "    </tr>\n",
       "    <tr>\n",
       "      <th>Worst hand-drawn map</th>\n",
       "      <td>25</td>\n",
       "    </tr>\n",
       "    <tr>\n",
       "      <th>Irrelevant variables</th>\n",
       "      <td>25</td>\n",
       "    </tr>\n",
       "    <tr>\n",
       "      <th>that really should have been like 3 different maps</th>\n",
       "      <td>25</td>\n",
       "    </tr>\n",
       "    <tr>\n",
       "      <th>Could have been a bar chart</th>\n",
       "      <td>24</td>\n",
       "    </tr>\n",
       "    <tr>\n",
       "      <th>Worst font (this is easy, everybody just gets to use papyrus 🤪)</th>\n",
       "      <td>23</td>\n",
       "    </tr>\n",
       "    <tr>\n",
       "      <th>The map with the highest number of hardly detectable errors (e.g. slight misplacements)</th>\n",
       "      <td>22</td>\n",
       "    </tr>\n",
       "    <tr>\n",
       "      <th>Shocking correlations</th>\n",
       "      <td>22</td>\n",
       "    </tr>\n",
       "    <tr>\n",
       "      <th>Worst Map for hiking</th>\n",
       "      <td>22</td>\n",
       "    </tr>\n",
       "    <tr>\n",
       "      <th>Worst decorations</th>\n",
       "      <td>22</td>\n",
       "    </tr>\n",
       "  </tbody>\n",
       "</table>\n",
       "</div>"
      ],
      "text/plain": [
       "                                                    score\n",
       "Map clearly made with Microsoft Paint                  37\n",
       "In a hurry                                             33\n",
       "My Cartography Teacher Had A Checklist And This...     32\n",
       "Source : trust me bro                                  32\n",
       "Egregious and unforgivable omissions: New Zeala...     31\n",
       "Worst sarcastic map (e.g. electricity in the Ro...     29\n",
       "Worst colors                                           29\n",
       "Rainbow is the new black                               29\n",
       "Bad point symbols                                      29\n",
       "Worst 3D Map                                           29\n",
       "Horrible use of choropleth                             28\n",
       "Worst title                                            28\n",
       "Not colorblind safe                                    27\n",
       "Colorblind                                             27\n",
       "Worst make a country look like its flag classif...     26\n",
       "Chuck Norris says : you do not need to know geo...     26\n",
       "Worst Valentines Day Map ? 💔                           26\n",
       "Not enough/Too much Text                               26\n",
       "NSFW                                                   26\n",
       "Worst hand-drawn map                                   25\n",
       "Irrelevant variables                                   25\n",
       "that really should have been like 3 different maps     25\n",
       "Could have been a bar chart                            24\n",
       "Worst font (this is easy, everybody just gets t...     23\n",
       "The map with the highest number of hardly detec...     22\n",
       "Shocking correlations                                  22\n",
       "Worst Map for hiking                                   22\n",
       "Worst decorations                                      22"
      ]
     },
     "execution_count": 152,
     "metadata": {},
     "output_type": "execute_result"
    }
   ],
   "source": [
    "scores.head(28)"
   ]
  },
  {
   "cell_type": "code",
   "execution_count": 149,
   "id": "f6dfbc29",
   "metadata": {},
   "outputs": [],
   "source": [
    "scores.to_csv(\"../data/03_scores/scores.csv\")"
   ]
  }
 ],
 "metadata": {
  "kernelspec": {
   "display_name": "Python 3 (ipykernel)",
   "language": "python",
   "name": "python3"
  },
  "language_info": {
   "codemirror_mode": {
    "name": "ipython",
    "version": 3
   },
   "file_extension": ".py",
   "mimetype": "text/x-python",
   "name": "python",
   "nbconvert_exporter": "python",
   "pygments_lexer": "ipython3",
   "version": "3.9.0"
  }
 },
 "nbformat": 4,
 "nbformat_minor": 5
}
